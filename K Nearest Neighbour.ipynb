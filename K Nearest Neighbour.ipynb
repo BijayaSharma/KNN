{
 "cells": [
  {
   "cell_type": "code",
   "execution_count": 1,
   "id": "4569d906",
   "metadata": {},
   "outputs": [],
   "source": [
    "# KNN Algorithm"
   ]
  },
  {
   "cell_type": "markdown",
   "id": "d0654df9",
   "metadata": {},
   "source": [
    "\n",
    "# Introduction\n",
    "\n",
    "Machine learning, in general, works by learning from the past data-sets and makes predictions in the future.\n",
    "To cluster the data, it uses the general information to distinguish the features of the particular characteristics. \n",
    "\n",
    "KNN is a type of supervised Machine Learning Algorithm based on feature similarity. We can use KNN classifier for classifiying the data (mainly used) and KNN regressor for the purpose of the regression.\n"
   ]
  },
  {
   "cell_type": "code",
   "execution_count": null,
   "id": "32373f39",
   "metadata": {},
   "outputs": [],
   "source": []
  },
  {
   "cell_type": "markdown",
   "id": "b60bb0d7",
   "metadata": {},
   "source": [
    "Two features of KNN are best to represents them:\n",
    "\n",
    "### Lazy Learning\n",
    "KNN is a lazy learning algorithm as it takes all the data for training and lacks specialized training phase.\n",
    "\n",
    "### Non-parametric learning\n",
    "It does not assume anything about the given data so is classified as non-parametric learning. \n",
    "\n",
    "\n",
    "KNN Classifier is mainly used in the recommendation stuff (like advertisement of products and others). Other uses can be in searching similar documents and handwriting (images or video) recognization.\n"
   ]
  },
  {
   "cell_type": "code",
   "execution_count": null,
   "id": "396440c3",
   "metadata": {},
   "outputs": [],
   "source": []
  },
  {
   "cell_type": "markdown",
   "id": "83ba3f18",
   "metadata": {},
   "source": [
    "## KNN Algorithm\n",
    "\n",
    "It uses \"feature similarity\" to predict the values of new data-points. This means the value of new data-point will be based on how closely it matches the points in the training set. \n",
    "\n",
    "### Steps\n",
    "\n",
    "1. Load the data sets (both training and test data set). If needed we must do data prunning and/or data cleaning. If we have only one data set, then split the data set into training and test sets.\n",
    "\n",
    "\n",
    "2. Choose the value of K. This can be calculated by taking square root of the total data points. And make sure \"K\" is odd numbered.\n",
    "\n",
    "\n",
    "3. For each point in test data set:\n",
    "\n",
    "    i. calculate the distance between test data and every data in training data set. Distance can be Euclidean (most commonly used), Manhattan or Hamming distance.\n",
    "    \n",
    "    ii. Sort them (distance) in ascending  order.\n",
    "    \n",
    "    iii. Select the top most \"K\" data from sorted data\n",
    "    \n",
    "    iv. Assign the class to the test data based on the majority of the training data.\n",
    "    \n",
    "    \n"
   ]
  },
  {
   "cell_type": "code",
   "execution_count": null,
   "id": "07c29389",
   "metadata": {},
   "outputs": [],
   "source": []
  },
  {
   "cell_type": "markdown",
   "id": "a1c60647",
   "metadata": {},
   "source": [
    "## Following example is based on the information we get from the following link\n",
    "https://www.tutorialspoint.com/machine_learning_with_python/machine_learning_with_python_knn_algorithm_finding_nearest_neighbors.htm#\n"
   ]
  },
  {
   "cell_type": "code",
   "execution_count": 2,
   "id": "6d3bc3b3",
   "metadata": {},
   "outputs": [],
   "source": [
    "# importing basic libraries to function\n",
    "import numpy as np\n",
    "import matplotlib.pyplot as plt \n",
    "import pandas as pd\n"
   ]
  },
  {
   "cell_type": "code",
   "execution_count": 3,
   "id": "3082530a",
   "metadata": {},
   "outputs": [
    {
     "data": {
      "text/html": [
       "<div>\n",
       "<style scoped>\n",
       "    .dataframe tbody tr th:only-of-type {\n",
       "        vertical-align: middle;\n",
       "    }\n",
       "\n",
       "    .dataframe tbody tr th {\n",
       "        vertical-align: top;\n",
       "    }\n",
       "\n",
       "    .dataframe thead th {\n",
       "        text-align: right;\n",
       "    }\n",
       "</style>\n",
       "<table border=\"1\" class=\"dataframe\">\n",
       "  <thead>\n",
       "    <tr style=\"text-align: right;\">\n",
       "      <th></th>\n",
       "      <th>sepal-length</th>\n",
       "      <th>sepal-width</th>\n",
       "      <th>petal-length</th>\n",
       "      <th>petal-width</th>\n",
       "      <th>Class</th>\n",
       "    </tr>\n",
       "  </thead>\n",
       "  <tbody>\n",
       "    <tr>\n",
       "      <th>0</th>\n",
       "      <td>5.1</td>\n",
       "      <td>3.5</td>\n",
       "      <td>1.4</td>\n",
       "      <td>0.2</td>\n",
       "      <td>Iris-setosa</td>\n",
       "    </tr>\n",
       "    <tr>\n",
       "      <th>1</th>\n",
       "      <td>4.9</td>\n",
       "      <td>3.0</td>\n",
       "      <td>1.4</td>\n",
       "      <td>0.2</td>\n",
       "      <td>Iris-setosa</td>\n",
       "    </tr>\n",
       "    <tr>\n",
       "      <th>2</th>\n",
       "      <td>4.7</td>\n",
       "      <td>3.2</td>\n",
       "      <td>1.3</td>\n",
       "      <td>0.2</td>\n",
       "      <td>Iris-setosa</td>\n",
       "    </tr>\n",
       "    <tr>\n",
       "      <th>3</th>\n",
       "      <td>4.6</td>\n",
       "      <td>3.1</td>\n",
       "      <td>1.5</td>\n",
       "      <td>0.2</td>\n",
       "      <td>Iris-setosa</td>\n",
       "    </tr>\n",
       "    <tr>\n",
       "      <th>4</th>\n",
       "      <td>5.0</td>\n",
       "      <td>3.6</td>\n",
       "      <td>1.4</td>\n",
       "      <td>0.2</td>\n",
       "      <td>Iris-setosa</td>\n",
       "    </tr>\n",
       "  </tbody>\n",
       "</table>\n",
       "</div>"
      ],
      "text/plain": [
       "   sepal-length  sepal-width  petal-length  petal-width        Class\n",
       "0           5.1          3.5           1.4          0.2  Iris-setosa\n",
       "1           4.9          3.0           1.4          0.2  Iris-setosa\n",
       "2           4.7          3.2           1.3          0.2  Iris-setosa\n",
       "3           4.6          3.1           1.5          0.2  Iris-setosa\n",
       "4           5.0          3.6           1.4          0.2  Iris-setosa"
      ]
     },
     "execution_count": 3,
     "metadata": {},
     "output_type": "execute_result"
    }
   ],
   "source": [
    "# path of iris data-set\n",
    "path = \"https://archive.ics.uci.edu/ml/machine-learning-databases/iris/iris.data\"\n",
    "\n",
    "# assigning column names to the dataset \n",
    "headernames = ['sepal-length', 'sepal-width', 'petal-length', 'petal-width', 'Class']\n",
    "\n",
    "# read the data (iris data-set) using the pandas data frame\n",
    "dataset = pd.read_csv(path, names = headernames) \n",
    "\n",
    "# read the head of the data set\n",
    "dataset.head()"
   ]
  },
  {
   "cell_type": "code",
   "execution_count": null,
   "id": "cdec65e6",
   "metadata": {},
   "outputs": [],
   "source": []
  },
  {
   "cell_type": "code",
   "execution_count": 4,
   "id": "666cc74b",
   "metadata": {},
   "outputs": [],
   "source": [
    "# pre-processing the data\n",
    "# following code divides the data set into numeric and non numeric part\n",
    "X = dataset.iloc[:, :-1].values  # getting the first four columns of the data-set which is numeric\n",
    "y = dataset.iloc[:, 4].values # getting the last column of the data-set which is non-numeric\n",
    "\n"
   ]
  },
  {
   "cell_type": "code",
   "execution_count": null,
   "id": "25216d4e",
   "metadata": {},
   "outputs": [],
   "source": []
  },
  {
   "cell_type": "code",
   "execution_count": 5,
   "id": "e8fa6215",
   "metadata": {},
   "outputs": [],
   "source": [
    "# diving data into training part and testing part\n",
    "# following code will split the dataset into 80% training data and 20% of testing data \n",
    "\n",
    "from sklearn.model_selection import train_test_split \n",
    "\n",
    "X_train, X_test, y_train, y_test = train_test_split(X, y, test_size = 0.20)\n",
    "\n",
    "\n"
   ]
  },
  {
   "cell_type": "code",
   "execution_count": null,
   "id": "3cc03e3b",
   "metadata": {},
   "outputs": [],
   "source": []
  },
  {
   "cell_type": "code",
   "execution_count": 6,
   "id": "f61fbdc1",
   "metadata": {},
   "outputs": [],
   "source": [
    "\n",
    "# data scaling section\n",
    "from sklearn.preprocessing import StandardScaler \n",
    "\n",
    "scaler = StandardScaler() \n",
    "scaler.fit(X_train) \n",
    "\n",
    "X_train = scaler.transform(X_train) \n",
    "X_test = scaler.transform(X_test)\n",
    "\n",
    "\n",
    "# train the model with the help of KNeighbors Classifier class of sklearn\n",
    "# number of nearest neighbour is determined by the square root of number of data\n",
    "\n",
    "from sklearn.neighbors import KNeighborsClassifier \n",
    "classifier = KNeighborsClassifier(n_neighbors = 8)  \n",
    "classifier.fit(X_train, y_train)\n",
    "\n",
    "# predicting by using the testing data\n",
    "y_pred = classifier.predict(X_test)\n"
   ]
  },
  {
   "cell_type": "code",
   "execution_count": null,
   "id": "347041b0",
   "metadata": {},
   "outputs": [],
   "source": []
  },
  {
   "cell_type": "code",
   "execution_count": 7,
   "id": "d63f6bb2",
   "metadata": {},
   "outputs": [
    {
     "name": "stdout",
     "output_type": "stream",
     "text": [
      "Confusion Matrix:\n",
      "[[10  0  0]\n",
      " [ 0  6  0]\n",
      " [ 0  1 13]]\n",
      "Classification Report:\n",
      "                 precision    recall  f1-score   support\n",
      "\n",
      "    Iris-setosa       1.00      1.00      1.00        10\n",
      "Iris-versicolor       0.86      1.00      0.92         6\n",
      " Iris-virginica       1.00      0.93      0.96        14\n",
      "\n",
      "       accuracy                           0.97        30\n",
      "      macro avg       0.95      0.98      0.96        30\n",
      "   weighted avg       0.97      0.97      0.97        30\n",
      "\n",
      "Accuracy: 0.9666666666666667\n"
     ]
    }
   ],
   "source": [
    "# getting the results\n",
    "\n",
    "from sklearn.metrics import classification_report, confusion_matrix, accuracy_score\n",
    "result = confusion_matrix(y_test, y_pred)\n",
    "print(\"Confusion Matrix:\")\n",
    "print(result)\n",
    "result1 = classification_report(y_test, y_pred)\n",
    "print(\"Classification Report:\",)\n",
    "print (result1)\n",
    "result2 = accuracy_score(y_test,y_pred)\n",
    "print(\"Accuracy:\",result2)"
   ]
  },
  {
   "cell_type": "code",
   "execution_count": null,
   "id": "77e0a782",
   "metadata": {},
   "outputs": [],
   "source": []
  },
  {
   "cell_type": "markdown",
   "id": "13998edd",
   "metadata": {},
   "source": [
    "## Advantage\n",
    "\n",
    "1. Simple to understand\n",
    "2. Useful to non-linear data (no assumption about the data is done in prior)\n",
    "3. Can be used for both Classification and regression\n",
    "4. Accuracy level is good as well\n",
    "\n",
    "\n",
    "## Disadvantage\n",
    "\n",
    "1. Computationally time consuming (stores all training data)\n",
    "2. High memory required\n",
    "3. slow prediction for large data (N)\n",
    "4. sometimes sensitive to irrelevant feature\n"
   ]
  },
  {
   "cell_type": "code",
   "execution_count": null,
   "id": "713c7d29",
   "metadata": {},
   "outputs": [],
   "source": []
  },
  {
   "cell_type": "code",
   "execution_count": null,
   "id": "a535c815",
   "metadata": {},
   "outputs": [],
   "source": []
  },
  {
   "cell_type": "code",
   "execution_count": null,
   "id": "0d0cda7e",
   "metadata": {},
   "outputs": [],
   "source": []
  }
 ],
 "metadata": {
  "kernelspec": {
   "display_name": "Python 3 (ipykernel)",
   "language": "python",
   "name": "python3"
  },
  "language_info": {
   "codemirror_mode": {
    "name": "ipython",
    "version": 3
   },
   "file_extension": ".py",
   "mimetype": "text/x-python",
   "name": "python",
   "nbconvert_exporter": "python",
   "pygments_lexer": "ipython3",
   "version": "3.9.12"
  }
 },
 "nbformat": 4,
 "nbformat_minor": 5
}
